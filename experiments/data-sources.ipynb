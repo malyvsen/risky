{
 "cells": [
  {
   "cell_type": "code",
   "execution_count": 1,
   "metadata": {},
   "outputs": [],
   "source": [
    "import numpy as np\n",
    "import pandas as pd\n",
    "import yfinance"
   ]
  },
  {
   "cell_type": "code",
   "execution_count": 2,
   "metadata": {},
   "outputs": [
    {
     "output_type": "execute_result",
     "data": {
      "text/plain": "    Symbol                    Name                  Sector\n0      MMM              3M Company             Industrials\n1      AOS         A.O. Smith Corp             Industrials\n2      ABT     Abbott Laboratories             Health Care\n3     ABBV             AbbVie Inc.             Health Care\n4     ABMD             ABIOMED Inc             Health Care\n..     ...                     ...                     ...\n500    YUM         Yum! Brands Inc  Consumer Discretionary\n501   ZBRA      Zebra Technologies  Information Technology\n502    ZBH  Zimmer Biomet Holdings             Health Care\n503   ZION           Zions Bancorp              Financials\n504    ZTS                  Zoetis             Health Care\n\n[505 rows x 3 columns]",
      "text/html": "<div>\n<style scoped>\n    .dataframe tbody tr th:only-of-type {\n        vertical-align: middle;\n    }\n\n    .dataframe tbody tr th {\n        vertical-align: top;\n    }\n\n    .dataframe thead th {\n        text-align: right;\n    }\n</style>\n<table border=\"1\" class=\"dataframe\">\n  <thead>\n    <tr style=\"text-align: right;\">\n      <th></th>\n      <th>Symbol</th>\n      <th>Name</th>\n      <th>Sector</th>\n    </tr>\n  </thead>\n  <tbody>\n    <tr>\n      <th>0</th>\n      <td>MMM</td>\n      <td>3M Company</td>\n      <td>Industrials</td>\n    </tr>\n    <tr>\n      <th>1</th>\n      <td>AOS</td>\n      <td>A.O. Smith Corp</td>\n      <td>Industrials</td>\n    </tr>\n    <tr>\n      <th>2</th>\n      <td>ABT</td>\n      <td>Abbott Laboratories</td>\n      <td>Health Care</td>\n    </tr>\n    <tr>\n      <th>3</th>\n      <td>ABBV</td>\n      <td>AbbVie Inc.</td>\n      <td>Health Care</td>\n    </tr>\n    <tr>\n      <th>4</th>\n      <td>ABMD</td>\n      <td>ABIOMED Inc</td>\n      <td>Health Care</td>\n    </tr>\n    <tr>\n      <th>...</th>\n      <td>...</td>\n      <td>...</td>\n      <td>...</td>\n    </tr>\n    <tr>\n      <th>500</th>\n      <td>YUM</td>\n      <td>Yum! Brands Inc</td>\n      <td>Consumer Discretionary</td>\n    </tr>\n    <tr>\n      <th>501</th>\n      <td>ZBRA</td>\n      <td>Zebra Technologies</td>\n      <td>Information Technology</td>\n    </tr>\n    <tr>\n      <th>502</th>\n      <td>ZBH</td>\n      <td>Zimmer Biomet Holdings</td>\n      <td>Health Care</td>\n    </tr>\n    <tr>\n      <th>503</th>\n      <td>ZION</td>\n      <td>Zions Bancorp</td>\n      <td>Financials</td>\n    </tr>\n    <tr>\n      <th>504</th>\n      <td>ZTS</td>\n      <td>Zoetis</td>\n      <td>Health Care</td>\n    </tr>\n  </tbody>\n</table>\n<p>505 rows × 3 columns</p>\n</div>"
     },
     "metadata": {},
     "execution_count": 2
    }
   ],
   "source": [
    "sp500 = pd.read_csv('https://datahub.io/core/s-and-p-500-companies/r/constituents.csv')\n",
    "sp500"
   ]
  },
  {
   "cell_type": "code",
   "execution_count": 3,
   "metadata": {},
   "outputs": [
    {
     "output_type": "stream",
     "name": "stdout",
     "text": "MMM, AOS, ABT, ABBV, ABMD, ACN, ATVI, ADBE, AAP, AMD, AES, AFL, A, APD, AKAM, ALK, ALB, ARE, ALXN, ALGN, ALLE, ADS, LNT, ALL, GOOGL, GOOG, MO, AMZN, AMCR, AEE, AAL, AEP, AXP, AIG, AMT, AWK, AMP, ABC, AME, AMGN, APH, ADI, ANSS, ANTM, AON, APA, AIV, AAPL, AMAT, APTV, ADM, ANET, AJG, AIZ, T, ATO, ADSK, ADP, AZO, AVB, AVY, BKR, BLL, BAC, BAX, BDX, BRK.B, BBY, BIIB, BLK, BA, BKNG, BWA, BXP, BSX, BMY, AVGO, BR, BF.B, CHRW, COG, CDNS, CPB, COF, CAH, KMX, CCL, CARR, CAT, CBOE, CBRE, CDW, CE, CNC, CNP, CTL, CERN, CF, SCHW, CHTR, CVX, CMG, CB, CHD, CI, CINF, CTAS, CSCO, C, CFG, CTXS, CME, CMS, KO, CTSH, CL, CMCSA, CMA, CAG, CXO, COP, ED, STZ, CPRT, GLW, CTVA, COST, COTY, CCI, CSX, CMI, CVS, DHI, DHR, DRI, DVA, DE, DAL, XRAY, DVN, DXCM, FANG, DLR, DFS, DISCA, DISCK, DISH, DG, DLTR, D, DPZ, DOV, DOW, DTE, DUK, DRE, DD, DXC, ETFC, EMN, ETN, EBAY, ECL, EIX, EW, EA, EMR, ETR, EOG, EFX, EQIX, EQR, ESS, EL, RE, EVRG, ES, EXC, EXPE, EXPD, EXR, XOM, FFIV, FB, FAST, FRT, FDX, FIS, FITB, FRC, FE, FISV, FLT, FLIR, FLS, FMC, F, FTNT, FTV, FBHS, FOXA, FOX, BEN, FCX, GPS, GRMN, IT, GD, GE, GIS, GM, GPC, GILD, GPN, GL, GS, GWW, HRB, HAL, HBI, HOG, HIG, HAS, HCA, PEAK, HSIC, HES, HPE, HLT, HFC, HOLX, HD, HON, HRL, HST, HWM, HPQ, HUM, HBAN, HII, IEX, IDXX, INFO, ITW, ILMN, INCY, IR, INTC, ICE, IBM, IP, IPG, IFF, INTU, ISRG, IVZ, IPGP, IQV, IRM, JBHT, JKHY, J, SJM, JNJ, JCI, JPM, JNPR, KSU, K, KEY, KEYS, KMB, KIM, KMI, KLAC, KSS, KHC, KR, LB, LHX, LH, LRCX, LW, LVS, LEG, LDOS, LEN, LLY, LNC, LIN, LYV, LKQ, LMT, L, LOW, LYB, MTB, MRO, MPC, MKTX, MAR, MMC, MLM, MAS, MA, MXIM, MKC, MCD, MCK, MDT, MRK, MET, MTD, MGM, MCHP, MU, MSFT, MAA, MHK, TAP, MDLZ, MNST, MCO, MS, MSI, MSCI, MYL, NDAQ, NOV, NTAP, NFLX, NWL, NEM, NWSA, NWS, NEE, NLSN, NKE, NI, NBL, JWN, NSC, NTRS, NOC, NLOK, NCLH, NRG, NUE, NVDA, NVR, ORLY, OXY, ODFL, OMC, OKE, ORCL, OTIS, PCAR, PKG, PH, PAYX, PAYC, PYPL, PNR, PBCT, PEP, PKI, PRGO, PFE, PM, PSX, PNW, PXD, PNC, PPG, PPL, PFG, PG, PGR, PLD, PRU, PEG, PSA, PHM, PVH, QRVO, QCOM, PWR, DGX, RL, RJF, RTX, O, REG, REGN, RF, RSG, RMD, RHI, ROK, ROL, ROP, ROST, RCL, SPGI, CRM, SBAC, SLB, STX, SEE, SRE, NOW, SHW, SPG, SWKS, SLG, SNA, SO, LUV, SWK, SBUX, STT, STE, SYK, SIVB, SYF, SNPS, SYY, TMUS, TROW, TTWO, TPR, TGT, TEL, FTI, TFX, TXN, TXT, BK, CLX, COO, HSY, MOS, TRV, DIS, TMO, TIF, TJX, TSCO, TT, TDG, TFC, TWTR, TSN, USB, UDR, ULTA, UAA, UA, UNP, UAL, UNH, UPS, URI, UHS, UNM, VFC, VLO, VAR, VTR, VRSN, VRSK, VZ, VRTX, VIAC, V, VNO, VMC, WRB, WAB, WBA, WMT, WM, WAT, WEC, WFC, WELL, WST, WDC, WU, WRK, WY, WHR, WMB, WLTW, WYNN, XEL, XRX, XLNX, XYL, YUM, ZBRA, ZBH, ZION, ZTS\n"
    }
   ],
   "source": [
    "sp500_symbols = sp500.Symbol.tolist()\n",
    "print(', '.join(sp500_symbols))"
   ]
  },
  {
   "cell_type": "code",
   "execution_count": 4,
   "metadata": {},
   "outputs": [
    {
     "output_type": "stream",
     "name": "stdout",
     "text": "[*********************100%***********************]  505 of 505 completed\n\n2 Failed downloads:\n- BF.B: No data found for this date range, symbol may be delisted\n- BRK.B: No data found, symbol may be delisted\n"
    }
   ],
   "source": [
    "data = yfinance.download(sp500_symbols, period='1mo')"
   ]
  },
  {
   "cell_type": "markdown",
   "metadata": {},
   "source": [
    "Oops, looks like `.` should be replaced with `-` for Yahoo! Finance."
   ]
  },
  {
   "cell_type": "code",
   "execution_count": 5,
   "metadata": {},
   "outputs": [
    {
     "output_type": "stream",
     "name": "stdout",
     "text": "[*********************100%***********************]  505 of 505 completed\n"
    },
    {
     "output_type": "execute_result",
     "data": {
      "text/plain": "            Adj Close                                                        \\\n                    A     AAL         AAP        AAPL       ABBV        ABC   \nDate                                                                          \n2020-05-04  74.559998   9.820  120.110001  292.368561  81.860001  85.988052   \n2020-05-05  76.370003   9.510  121.190002  296.756683  85.370003  87.530312   \n2020-05-06  77.870003   9.250  121.160004  299.818390  85.419998  85.072655   \n2020-05-07  78.500000   9.540  119.610001  302.919983  84.220001  88.296455   \n2020-05-08  79.709999  10.140  124.849998  310.130005  83.959999  87.649704   \n2020-05-11  81.269997  10.100  125.940002  315.010010  87.900002  90.186958   \n2020-05-12  79.849998   9.650  124.500000  311.410004  90.459999  88.137260   \n2020-05-13  80.160004   9.110  119.239998  307.649994  88.870003  83.729401   \n2020-05-14  81.639999   9.150  121.129997  309.540009  89.940002  83.610001   \n2020-05-15  81.589996   9.040  126.059998  307.709991  90.709999  85.750000   \n2020-05-18  83.660004   9.870  131.110001  314.959991  91.470001  89.199997   \n2020-05-19  81.970001   9.640  135.820007  313.140015  91.199997  89.629997   \n2020-05-20  81.709999   9.870  135.720001  319.230011  91.190002  92.730003   \n2020-05-21  80.750000   9.890  134.789993  316.850006  93.019997  92.250000   \n2020-05-22  84.980003   9.700  133.479996  318.890015  92.099998  93.139999   \n2020-05-26  86.129997  11.140  135.580002  316.730011  90.709999  90.779999   \n2020-05-27  86.180000  11.980  141.710007  318.109985  89.980003  93.330002   \n2020-05-28  86.690002  10.980  138.440002  318.250000  90.029999  94.400002   \n2020-05-29  88.139999  10.500  139.320007  317.940002  92.669998  95.339996   \n2020-06-01  89.910004  11.110  139.789993  321.850006  90.699997  95.150002   \n2020-06-02  89.875000  11.265  139.740005  320.309998  90.589996  95.769997   \n2020-06-02  89.875000  11.265  139.740005  320.309998  90.589996  95.769997   \n\n                                                           ...   Volume  \\\n                  ABMD        ABT         ACN        ADBE  ...     XLNX   \nDate                                                       ...            \n2020-05-04  181.000000  89.830002  179.529999  349.109985  ...  2293600   \n2020-05-05  186.220001  93.029999  181.619995  356.130005  ...  2556300   \n2020-05-06  186.910004  91.080002  180.380005  362.519989  ...  3676100   \n2020-05-07  188.330002  93.989998  187.110001  366.779999  ...  2098000   \n2020-05-08  187.070007  93.699997  188.559998  367.510010  ...  1783500   \n2020-05-11  194.610001  96.070000  187.750000  371.420013  ...  1734700   \n2020-05-12  191.289993  93.800003  185.720001  365.100006  ...  2564600   \n2020-05-13  185.600006  92.160004  181.000000  358.559998  ...  3134300   \n2020-05-14  184.270004  91.779999  179.990005  355.390015  ...  2336300   \n2020-05-15  184.919998  89.889999  183.880005  365.299988  ...  3184200   \n2020-05-18  191.050003  90.269997  192.750000  367.970001  ...  3425100   \n2020-05-19  190.789993  88.220001  190.089996  372.200012  ...  2363900   \n2020-05-20  196.360001  90.089996  195.179993  383.630005  ...  3066400   \n2020-05-21  196.320007  90.389999  193.500000  382.170013  ...  2463600   \n2020-05-22  206.160004  91.470001  193.710007  385.260010  ...  1903600   \n2020-05-26  209.080002  89.480003  196.399994  376.630005  ...  2486100   \n2020-05-27  207.759995  90.760002  199.929993  375.170013  ...  2640000   \n2020-05-28  217.360001  92.099998  201.669998  379.829987  ...  2220400   \n2020-05-29  223.899994  94.919998  201.619995  386.600006  ...  2986600   \n2020-06-01  226.139999  93.010002  203.380005  389.679993  ...  1826500   \n2020-06-02  227.389999  92.379997  203.070007  383.359985  ...   722810   \n2020-06-02  227.389999  92.379997  203.070007  383.359985  ...   722810   \n\n                                                                             \\\n                 XOM     XRAY       XRX      XYL       YUM      ZBH    ZBRA   \nDate                                                                          \n2020-05-04  27465600  2657100   3258600  1106700   1892900  1353900  346900   \n2020-05-05  29276200  2901300   2134900  2797600   1929800  1071900  349700   \n2020-05-06  22659000  2442800   1698000  1760200   1440300   820800  219100   \n2020-05-07  22160300  2736700   2033500  1570500   1874000  1520300  276200   \n2020-05-08  19998700  3377900   2007000  1320000   1949200  1465200  270500   \n2020-05-11  22226900  2906100   1892500  1357300   1785000  1901200  339200   \n2020-05-12  25439100  3191200   1988500  1199700   1926400  1351200  299100   \n2020-05-13  30827900  3220400   3952200  1387400   2809100  1913900  445800   \n2020-05-14  24856500  2929800   3114300  1627700   2684200  1611600  457000   \n2020-05-15  22445600  5570700   3363400   985200   3998200   855700  383100   \n2020-05-18  32046100  2580800   4390600  1052500   2550100  2375900  571100   \n2020-05-19  21771600  2696800   3572200  1113400   2066400  1519000  489900   \n2020-05-20  19352400  2260200   3668500   806400   2653800  1403000  369900   \n2020-05-21  19130700  1938700   2337800   870300   2235900  2490200  286900   \n2020-05-22  15406400  2015400   1624200   735600   2247700  1027400  301600   \n2020-05-26  20356500  2846700   3506400  1510400   3680800  1967500  558900   \n2020-05-27  20788300  3521400   2878400  2397400   4590700  1494300  501900   \n2020-05-28  19698000  2610000   4849200  1306200   4065700   959000  334000   \n2020-05-29  25886200  2465200  20755300  1624600  14610100  1345800  490700   \n2020-06-01  19031000  1075600   4494500   824200   2014100   612000  294100   \n2020-06-02   8844504   698296   1137272   319896    814832   129906   89002   \n2020-06-02   8844504   698296   1137272   319896    814832   129906   89002   \n\n                              \n               ZION      ZTS  \nDate                          \n2020-05-04  3109600  1833800  \n2020-05-05  3344100  2445800  \n2020-05-06  3038700  3393900  \n2020-05-07  2763500  3098000  \n2020-05-08  2618300  1617500  \n2020-05-11  2221700  1888300  \n2020-05-12  2498300  1889500  \n2020-05-13  2770000  1879000  \n2020-05-14  3819800  2246800  \n2020-05-15  2205200  2921700  \n2020-05-18  2856100  2762800  \n2020-05-19  2383500  3335300  \n2020-05-20  3791500  2303400  \n2020-05-21  2854200  1413100  \n2020-05-22  2111700  1602400  \n2020-05-26  3348000  2322300  \n2020-05-27  3103100  2287000  \n2020-05-28  3302200  2367800  \n2020-05-29  4209400  2814500  \n2020-06-01  1559500  1413000  \n2020-06-02   605702   463453  \n2020-06-02   605702   463453  \n\n[22 rows x 3030 columns]",
      "text/html": "<div>\n<style scoped>\n    .dataframe tbody tr th:only-of-type {\n        vertical-align: middle;\n    }\n\n    .dataframe tbody tr th {\n        vertical-align: top;\n    }\n\n    .dataframe thead tr th {\n        text-align: left;\n    }\n\n    .dataframe thead tr:last-of-type th {\n        text-align: right;\n    }\n</style>\n<table border=\"1\" class=\"dataframe\">\n  <thead>\n    <tr>\n      <th></th>\n      <th colspan=\"10\" halign=\"left\">Adj Close</th>\n      <th>...</th>\n      <th colspan=\"10\" halign=\"left\">Volume</th>\n    </tr>\n    <tr>\n      <th></th>\n      <th>A</th>\n      <th>AAL</th>\n      <th>AAP</th>\n      <th>AAPL</th>\n      <th>ABBV</th>\n      <th>ABC</th>\n      <th>ABMD</th>\n      <th>ABT</th>\n      <th>ACN</th>\n      <th>ADBE</th>\n      <th>...</th>\n      <th>XLNX</th>\n      <th>XOM</th>\n      <th>XRAY</th>\n      <th>XRX</th>\n      <th>XYL</th>\n      <th>YUM</th>\n      <th>ZBH</th>\n      <th>ZBRA</th>\n      <th>ZION</th>\n      <th>ZTS</th>\n    </tr>\n    <tr>\n      <th>Date</th>\n      <th></th>\n      <th></th>\n      <th></th>\n      <th></th>\n      <th></th>\n      <th></th>\n      <th></th>\n      <th></th>\n      <th></th>\n      <th></th>\n      <th></th>\n      <th></th>\n      <th></th>\n      <th></th>\n      <th></th>\n      <th></th>\n      <th></th>\n      <th></th>\n      <th></th>\n      <th></th>\n      <th></th>\n    </tr>\n  </thead>\n  <tbody>\n    <tr>\n      <th>2020-05-04</th>\n      <td>74.559998</td>\n      <td>9.820</td>\n      <td>120.110001</td>\n      <td>292.368561</td>\n      <td>81.860001</td>\n      <td>85.988052</td>\n      <td>181.000000</td>\n      <td>89.830002</td>\n      <td>179.529999</td>\n      <td>349.109985</td>\n      <td>...</td>\n      <td>2293600</td>\n      <td>27465600</td>\n      <td>2657100</td>\n      <td>3258600</td>\n      <td>1106700</td>\n      <td>1892900</td>\n      <td>1353900</td>\n      <td>346900</td>\n      <td>3109600</td>\n      <td>1833800</td>\n    </tr>\n    <tr>\n      <th>2020-05-05</th>\n      <td>76.370003</td>\n      <td>9.510</td>\n      <td>121.190002</td>\n      <td>296.756683</td>\n      <td>85.370003</td>\n      <td>87.530312</td>\n      <td>186.220001</td>\n      <td>93.029999</td>\n      <td>181.619995</td>\n      <td>356.130005</td>\n      <td>...</td>\n      <td>2556300</td>\n      <td>29276200</td>\n      <td>2901300</td>\n      <td>2134900</td>\n      <td>2797600</td>\n      <td>1929800</td>\n      <td>1071900</td>\n      <td>349700</td>\n      <td>3344100</td>\n      <td>2445800</td>\n    </tr>\n    <tr>\n      <th>2020-05-06</th>\n      <td>77.870003</td>\n      <td>9.250</td>\n      <td>121.160004</td>\n      <td>299.818390</td>\n      <td>85.419998</td>\n      <td>85.072655</td>\n      <td>186.910004</td>\n      <td>91.080002</td>\n      <td>180.380005</td>\n      <td>362.519989</td>\n      <td>...</td>\n      <td>3676100</td>\n      <td>22659000</td>\n      <td>2442800</td>\n      <td>1698000</td>\n      <td>1760200</td>\n      <td>1440300</td>\n      <td>820800</td>\n      <td>219100</td>\n      <td>3038700</td>\n      <td>3393900</td>\n    </tr>\n    <tr>\n      <th>2020-05-07</th>\n      <td>78.500000</td>\n      <td>9.540</td>\n      <td>119.610001</td>\n      <td>302.919983</td>\n      <td>84.220001</td>\n      <td>88.296455</td>\n      <td>188.330002</td>\n      <td>93.989998</td>\n      <td>187.110001</td>\n      <td>366.779999</td>\n      <td>...</td>\n      <td>2098000</td>\n      <td>22160300</td>\n      <td>2736700</td>\n      <td>2033500</td>\n      <td>1570500</td>\n      <td>1874000</td>\n      <td>1520300</td>\n      <td>276200</td>\n      <td>2763500</td>\n      <td>3098000</td>\n    </tr>\n    <tr>\n      <th>2020-05-08</th>\n      <td>79.709999</td>\n      <td>10.140</td>\n      <td>124.849998</td>\n      <td>310.130005</td>\n      <td>83.959999</td>\n      <td>87.649704</td>\n      <td>187.070007</td>\n      <td>93.699997</td>\n      <td>188.559998</td>\n      <td>367.510010</td>\n      <td>...</td>\n      <td>1783500</td>\n      <td>19998700</td>\n      <td>3377900</td>\n      <td>2007000</td>\n      <td>1320000</td>\n      <td>1949200</td>\n      <td>1465200</td>\n      <td>270500</td>\n      <td>2618300</td>\n      <td>1617500</td>\n    </tr>\n    <tr>\n      <th>2020-05-11</th>\n      <td>81.269997</td>\n      <td>10.100</td>\n      <td>125.940002</td>\n      <td>315.010010</td>\n      <td>87.900002</td>\n      <td>90.186958</td>\n      <td>194.610001</td>\n      <td>96.070000</td>\n      <td>187.750000</td>\n      <td>371.420013</td>\n      <td>...</td>\n      <td>1734700</td>\n      <td>22226900</td>\n      <td>2906100</td>\n      <td>1892500</td>\n      <td>1357300</td>\n      <td>1785000</td>\n      <td>1901200</td>\n      <td>339200</td>\n      <td>2221700</td>\n      <td>1888300</td>\n    </tr>\n    <tr>\n      <th>2020-05-12</th>\n      <td>79.849998</td>\n      <td>9.650</td>\n      <td>124.500000</td>\n      <td>311.410004</td>\n      <td>90.459999</td>\n      <td>88.137260</td>\n      <td>191.289993</td>\n      <td>93.800003</td>\n      <td>185.720001</td>\n      <td>365.100006</td>\n      <td>...</td>\n      <td>2564600</td>\n      <td>25439100</td>\n      <td>3191200</td>\n      <td>1988500</td>\n      <td>1199700</td>\n      <td>1926400</td>\n      <td>1351200</td>\n      <td>299100</td>\n      <td>2498300</td>\n      <td>1889500</td>\n    </tr>\n    <tr>\n      <th>2020-05-13</th>\n      <td>80.160004</td>\n      <td>9.110</td>\n      <td>119.239998</td>\n      <td>307.649994</td>\n      <td>88.870003</td>\n      <td>83.729401</td>\n      <td>185.600006</td>\n      <td>92.160004</td>\n      <td>181.000000</td>\n      <td>358.559998</td>\n      <td>...</td>\n      <td>3134300</td>\n      <td>30827900</td>\n      <td>3220400</td>\n      <td>3952200</td>\n      <td>1387400</td>\n      <td>2809100</td>\n      <td>1913900</td>\n      <td>445800</td>\n      <td>2770000</td>\n      <td>1879000</td>\n    </tr>\n    <tr>\n      <th>2020-05-14</th>\n      <td>81.639999</td>\n      <td>9.150</td>\n      <td>121.129997</td>\n      <td>309.540009</td>\n      <td>89.940002</td>\n      <td>83.610001</td>\n      <td>184.270004</td>\n      <td>91.779999</td>\n      <td>179.990005</td>\n      <td>355.390015</td>\n      <td>...</td>\n      <td>2336300</td>\n      <td>24856500</td>\n      <td>2929800</td>\n      <td>3114300</td>\n      <td>1627700</td>\n      <td>2684200</td>\n      <td>1611600</td>\n      <td>457000</td>\n      <td>3819800</td>\n      <td>2246800</td>\n    </tr>\n    <tr>\n      <th>2020-05-15</th>\n      <td>81.589996</td>\n      <td>9.040</td>\n      <td>126.059998</td>\n      <td>307.709991</td>\n      <td>90.709999</td>\n      <td>85.750000</td>\n      <td>184.919998</td>\n      <td>89.889999</td>\n      <td>183.880005</td>\n      <td>365.299988</td>\n      <td>...</td>\n      <td>3184200</td>\n      <td>22445600</td>\n      <td>5570700</td>\n      <td>3363400</td>\n      <td>985200</td>\n      <td>3998200</td>\n      <td>855700</td>\n      <td>383100</td>\n      <td>2205200</td>\n      <td>2921700</td>\n    </tr>\n    <tr>\n      <th>2020-05-18</th>\n      <td>83.660004</td>\n      <td>9.870</td>\n      <td>131.110001</td>\n      <td>314.959991</td>\n      <td>91.470001</td>\n      <td>89.199997</td>\n      <td>191.050003</td>\n      <td>90.269997</td>\n      <td>192.750000</td>\n      <td>367.970001</td>\n      <td>...</td>\n      <td>3425100</td>\n      <td>32046100</td>\n      <td>2580800</td>\n      <td>4390600</td>\n      <td>1052500</td>\n      <td>2550100</td>\n      <td>2375900</td>\n      <td>571100</td>\n      <td>2856100</td>\n      <td>2762800</td>\n    </tr>\n    <tr>\n      <th>2020-05-19</th>\n      <td>81.970001</td>\n      <td>9.640</td>\n      <td>135.820007</td>\n      <td>313.140015</td>\n      <td>91.199997</td>\n      <td>89.629997</td>\n      <td>190.789993</td>\n      <td>88.220001</td>\n      <td>190.089996</td>\n      <td>372.200012</td>\n      <td>...</td>\n      <td>2363900</td>\n      <td>21771600</td>\n      <td>2696800</td>\n      <td>3572200</td>\n      <td>1113400</td>\n      <td>2066400</td>\n      <td>1519000</td>\n      <td>489900</td>\n      <td>2383500</td>\n      <td>3335300</td>\n    </tr>\n    <tr>\n      <th>2020-05-20</th>\n      <td>81.709999</td>\n      <td>9.870</td>\n      <td>135.720001</td>\n      <td>319.230011</td>\n      <td>91.190002</td>\n      <td>92.730003</td>\n      <td>196.360001</td>\n      <td>90.089996</td>\n      <td>195.179993</td>\n      <td>383.630005</td>\n      <td>...</td>\n      <td>3066400</td>\n      <td>19352400</td>\n      <td>2260200</td>\n      <td>3668500</td>\n      <td>806400</td>\n      <td>2653800</td>\n      <td>1403000</td>\n      <td>369900</td>\n      <td>3791500</td>\n      <td>2303400</td>\n    </tr>\n    <tr>\n      <th>2020-05-21</th>\n      <td>80.750000</td>\n      <td>9.890</td>\n      <td>134.789993</td>\n      <td>316.850006</td>\n      <td>93.019997</td>\n      <td>92.250000</td>\n      <td>196.320007</td>\n      <td>90.389999</td>\n      <td>193.500000</td>\n      <td>382.170013</td>\n      <td>...</td>\n      <td>2463600</td>\n      <td>19130700</td>\n      <td>1938700</td>\n      <td>2337800</td>\n      <td>870300</td>\n      <td>2235900</td>\n      <td>2490200</td>\n      <td>286900</td>\n      <td>2854200</td>\n      <td>1413100</td>\n    </tr>\n    <tr>\n      <th>2020-05-22</th>\n      <td>84.980003</td>\n      <td>9.700</td>\n      <td>133.479996</td>\n      <td>318.890015</td>\n      <td>92.099998</td>\n      <td>93.139999</td>\n      <td>206.160004</td>\n      <td>91.470001</td>\n      <td>193.710007</td>\n      <td>385.260010</td>\n      <td>...</td>\n      <td>1903600</td>\n      <td>15406400</td>\n      <td>2015400</td>\n      <td>1624200</td>\n      <td>735600</td>\n      <td>2247700</td>\n      <td>1027400</td>\n      <td>301600</td>\n      <td>2111700</td>\n      <td>1602400</td>\n    </tr>\n    <tr>\n      <th>2020-05-26</th>\n      <td>86.129997</td>\n      <td>11.140</td>\n      <td>135.580002</td>\n      <td>316.730011</td>\n      <td>90.709999</td>\n      <td>90.779999</td>\n      <td>209.080002</td>\n      <td>89.480003</td>\n      <td>196.399994</td>\n      <td>376.630005</td>\n      <td>...</td>\n      <td>2486100</td>\n      <td>20356500</td>\n      <td>2846700</td>\n      <td>3506400</td>\n      <td>1510400</td>\n      <td>3680800</td>\n      <td>1967500</td>\n      <td>558900</td>\n      <td>3348000</td>\n      <td>2322300</td>\n    </tr>\n    <tr>\n      <th>2020-05-27</th>\n      <td>86.180000</td>\n      <td>11.980</td>\n      <td>141.710007</td>\n      <td>318.109985</td>\n      <td>89.980003</td>\n      <td>93.330002</td>\n      <td>207.759995</td>\n      <td>90.760002</td>\n      <td>199.929993</td>\n      <td>375.170013</td>\n      <td>...</td>\n      <td>2640000</td>\n      <td>20788300</td>\n      <td>3521400</td>\n      <td>2878400</td>\n      <td>2397400</td>\n      <td>4590700</td>\n      <td>1494300</td>\n      <td>501900</td>\n      <td>3103100</td>\n      <td>2287000</td>\n    </tr>\n    <tr>\n      <th>2020-05-28</th>\n      <td>86.690002</td>\n      <td>10.980</td>\n      <td>138.440002</td>\n      <td>318.250000</td>\n      <td>90.029999</td>\n      <td>94.400002</td>\n      <td>217.360001</td>\n      <td>92.099998</td>\n      <td>201.669998</td>\n      <td>379.829987</td>\n      <td>...</td>\n      <td>2220400</td>\n      <td>19698000</td>\n      <td>2610000</td>\n      <td>4849200</td>\n      <td>1306200</td>\n      <td>4065700</td>\n      <td>959000</td>\n      <td>334000</td>\n      <td>3302200</td>\n      <td>2367800</td>\n    </tr>\n    <tr>\n      <th>2020-05-29</th>\n      <td>88.139999</td>\n      <td>10.500</td>\n      <td>139.320007</td>\n      <td>317.940002</td>\n      <td>92.669998</td>\n      <td>95.339996</td>\n      <td>223.899994</td>\n      <td>94.919998</td>\n      <td>201.619995</td>\n      <td>386.600006</td>\n      <td>...</td>\n      <td>2986600</td>\n      <td>25886200</td>\n      <td>2465200</td>\n      <td>20755300</td>\n      <td>1624600</td>\n      <td>14610100</td>\n      <td>1345800</td>\n      <td>490700</td>\n      <td>4209400</td>\n      <td>2814500</td>\n    </tr>\n    <tr>\n      <th>2020-06-01</th>\n      <td>89.910004</td>\n      <td>11.110</td>\n      <td>139.789993</td>\n      <td>321.850006</td>\n      <td>90.699997</td>\n      <td>95.150002</td>\n      <td>226.139999</td>\n      <td>93.010002</td>\n      <td>203.380005</td>\n      <td>389.679993</td>\n      <td>...</td>\n      <td>1826500</td>\n      <td>19031000</td>\n      <td>1075600</td>\n      <td>4494500</td>\n      <td>824200</td>\n      <td>2014100</td>\n      <td>612000</td>\n      <td>294100</td>\n      <td>1559500</td>\n      <td>1413000</td>\n    </tr>\n    <tr>\n      <th>2020-06-02</th>\n      <td>89.875000</td>\n      <td>11.265</td>\n      <td>139.740005</td>\n      <td>320.309998</td>\n      <td>90.589996</td>\n      <td>95.769997</td>\n      <td>227.389999</td>\n      <td>92.379997</td>\n      <td>203.070007</td>\n      <td>383.359985</td>\n      <td>...</td>\n      <td>722810</td>\n      <td>8844504</td>\n      <td>698296</td>\n      <td>1137272</td>\n      <td>319896</td>\n      <td>814832</td>\n      <td>129906</td>\n      <td>89002</td>\n      <td>605702</td>\n      <td>463453</td>\n    </tr>\n    <tr>\n      <th>2020-06-02</th>\n      <td>89.875000</td>\n      <td>11.265</td>\n      <td>139.740005</td>\n      <td>320.309998</td>\n      <td>90.589996</td>\n      <td>95.769997</td>\n      <td>227.389999</td>\n      <td>92.379997</td>\n      <td>203.070007</td>\n      <td>383.359985</td>\n      <td>...</td>\n      <td>722810</td>\n      <td>8844504</td>\n      <td>698296</td>\n      <td>1137272</td>\n      <td>319896</td>\n      <td>814832</td>\n      <td>129906</td>\n      <td>89002</td>\n      <td>605702</td>\n      <td>463453</td>\n    </tr>\n  </tbody>\n</table>\n<p>22 rows × 3030 columns</p>\n</div>"
     },
     "metadata": {},
     "execution_count": 5
    }
   ],
   "source": [
    "sp500_symbols = [symbol.replace('.', '-') for symbol in sp500_symbols]\n",
    "data = yfinance.download(sp500_symbols, period='1mo')\n",
    "data"
   ]
  },
  {
   "cell_type": "code",
   "execution_count": 6,
   "metadata": {},
   "outputs": [
    {
     "output_type": "execute_result",
     "data": {
      "text/plain": "Index(['Adj Close', 'Close', 'High', 'Low', 'Open', 'Volume'], dtype='object')"
     },
     "metadata": {},
     "execution_count": 6
    }
   ],
   "source": [
    "data.columns.levels[0]"
   ]
  },
  {
   "cell_type": "markdown",
   "metadata": {},
   "source": [
    "\"Adj Close\" refers to the adjusted close price - adjusted for eg. stock splits."
   ]
  },
  {
   "cell_type": "code",
   "execution_count": 7,
   "metadata": {},
   "outputs": [
    {
     "output_type": "execute_result",
     "data": {
      "text/plain": "Date\n2020-05-04    292.368561\n2020-05-05    296.756683\n2020-05-06    299.818390\n2020-05-07    302.919983\n2020-05-08    310.130005\n2020-05-11    315.010010\n2020-05-12    311.410004\n2020-05-13    307.649994\n2020-05-14    309.540009\n2020-05-15    307.709991\n2020-05-18    314.959991\n2020-05-19    313.140015\n2020-05-20    319.230011\n2020-05-21    316.850006\n2020-05-22    318.890015\n2020-05-26    316.730011\n2020-05-27    318.109985\n2020-05-28    318.250000\n2020-05-29    317.940002\n2020-06-01    321.850006\n2020-06-02    320.309998\n2020-06-02    320.309998\nName: (Adj Close, AAPL), dtype: float64"
     },
     "metadata": {},
     "execution_count": 7
    }
   ],
   "source": [
    "data['Adj Close', 'AAPL']"
   ]
  },
  {
   "cell_type": "markdown",
   "metadata": {},
   "source": [
    "Hmm, for some reason the data for the last day is duplicated. Let's get rid of that!"
   ]
  },
  {
   "cell_type": "code",
   "execution_count": 8,
   "metadata": {},
   "outputs": [
    {
     "output_type": "execute_result",
     "data": {
      "text/plain": "Date\n2020-05-04    292.368561\n2020-05-05    296.756683\n2020-05-06    299.818390\n2020-05-07    302.919983\n2020-05-08    310.130005\n2020-05-11    315.010010\n2020-05-12    311.410004\n2020-05-13    307.649994\n2020-05-14    309.540009\n2020-05-15    307.709991\n2020-05-18    314.959991\n2020-05-19    313.140015\n2020-05-20    319.230011\n2020-05-21    316.850006\n2020-05-22    318.890015\n2020-05-26    316.730011\n2020-05-27    318.109985\n2020-05-28    318.250000\n2020-05-29    317.940002\n2020-06-01    321.850006\n2020-06-02    320.309998\nName: (Adj Close, AAPL), dtype: float64"
     },
     "metadata": {},
     "execution_count": 8
    }
   ],
   "source": [
    "data = data[~data.index.duplicated()]\n",
    "data['Adj Close', 'AAPL']"
   ]
  }
 ],
 "metadata": {
  "language_info": {
   "codemirror_mode": {
    "name": "ipython",
    "version": 3
   },
   "file_extension": ".py",
   "mimetype": "text/x-python",
   "name": "python",
   "nbconvert_exporter": "python",
   "pygments_lexer": "ipython3",
   "version": "3.7.7-final"
  },
  "orig_nbformat": 2,
  "kernelspec": {
   "name": "python37764bitaivenv5ef05f08934749d89ee1a1042231ffb2",
   "display_name": "Python 3.7.7 64-bit ('ai': venv)"
  }
 },
 "nbformat": 4,
 "nbformat_minor": 2
}